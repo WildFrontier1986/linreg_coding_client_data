{
 "cells": [
  {
   "cell_type": "markdown",
   "id": "876314f1",
   "metadata": {
    "toc": true
   },
   "source": [
    "<h1>Содержание<span class=\"tocSkip\"></span></h1>\n",
    "<div class=\"toc\"><ul class=\"toc-item\"><li><span><a href=\"#Подключение-необходимых-библиотек-и-модулей\" data-toc-modified-id=\"Подключение-необходимых-библиотек-и-модулей-1\"><span class=\"toc-item-num\">1&nbsp;&nbsp;</span>Подключение необходимых библиотек и модулей</a></span></li><li><span><a href=\"#Подготовка-данных\" data-toc-modified-id=\"Подготовка-данных-2\"><span class=\"toc-item-num\">2&nbsp;&nbsp;</span>Подготовка данных</a></span><ul class=\"toc-item\"><li><span><a href=\"#Открытие-и-изучение-данных-из-файла\" data-toc-modified-id=\"Открытие-и-изучение-данных-из-файла-2.1\"><span class=\"toc-item-num\">2.1&nbsp;&nbsp;</span>Открытие и изучение данных из файла</a></span></li><li><span><a href=\"#Пердобработка-данных\" data-toc-modified-id=\"Пердобработка-данных-2.2\"><span class=\"toc-item-num\">2.2&nbsp;&nbsp;</span>Пердобработка данных</a></span></li><li><span><a href=\"#Исследовательский-анализ-данных\" data-toc-modified-id=\"Исследовательский-анализ-данных-2.3\"><span class=\"toc-item-num\">2.3&nbsp;&nbsp;</span>Исследовательский анализ данных</a></span></li></ul></li><li><span><a href=\"#Подготовка-признаков\" data-toc-modified-id=\"Подготовка-признаков-3\"><span class=\"toc-item-num\">3&nbsp;&nbsp;</span>Подготовка признаков</a></span><ul class=\"toc-item\"><li><span><a href=\"#Создание-обучающих-признаков\" data-toc-modified-id=\"Создание-обучающих-признаков-3.1\"><span class=\"toc-item-num\">3.1&nbsp;&nbsp;</span>Создание обучающих признаков</a></span></li></ul></li><li><span><a href=\"#Умножение-матриц\" data-toc-modified-id=\"Умножение-матриц-4\"><span class=\"toc-item-num\">4&nbsp;&nbsp;</span>Умножение матриц</a></span><ul class=\"toc-item\"><li><span><a href=\"#Проверка-зависимости-изменений-качества-линейной-регрессии-от-умножения-признаков-на-обратимую-матрицу\" data-toc-modified-id=\"Проверка-зависимости-изменений-качества-линейной-регрессии-от-умножения-признаков-на-обратимую-матрицу-4.1\"><span class=\"toc-item-num\">4.1&nbsp;&nbsp;</span>Проверка зависимости изменений качества линейной регрессии от умножения признаков на обратимую матрицу</a></span></li></ul></li><li><span><a href=\"#Создание-и-проверка-алгоритма-преобразования-данных-для-решения-задачи\" data-toc-modified-id=\"Создание-и-проверка-алгоритма-преобразования-данных-для-решения-задачи-5\"><span class=\"toc-item-num\">5&nbsp;&nbsp;</span>Создание и проверка алгоритма преобразования данных для решения задачи</a></span><ul class=\"toc-item\"><li><span><a href=\"#Описание-алгоритма\" data-toc-modified-id=\"Описание-алгоритма-5.1\"><span class=\"toc-item-num\">5.1&nbsp;&nbsp;</span>Описание алгоритма</a></span></li><li><span><a href=\"#Программирование-алгоритма\" data-toc-modified-id=\"Программирование-алгоритма-5.2\"><span class=\"toc-item-num\">5.2&nbsp;&nbsp;</span>Программирование алгоритма</a></span></li><li><span><a href=\"#Создание-и-обучение-модели-с-помощью-созданного-класса\" data-toc-modified-id=\"Создание-и-обучение-модели-с-помощью-созданного-класса-5.3\"><span class=\"toc-item-num\">5.3&nbsp;&nbsp;</span>Создание и обучение модели с помощью созданного класса</a></span></li><li><span><a href=\"#Проверка-закодированной-выборкой-на-стандартной-модели-из-библиотеки-Scikit-Learn\" data-toc-modified-id=\"Проверка-закодированной-выборкой-на-стандартной-модели-из-библиотеки-Scikit-Learn-5.4\"><span class=\"toc-item-num\">5.4&nbsp;&nbsp;</span>Проверка закодированной выборкой на стандартной модели из библиотеки Scikit-Learn</a></span></li><li><span><a href=\"#Проверка-исходной-выборкой-на-стандартной-модели-из-библиотеки-Scikit-Learn\" data-toc-modified-id=\"Проверка-исходной-выборкой-на-стандартной-модели-из-библиотеки-Scikit-Learn-5.5\"><span class=\"toc-item-num\">5.5&nbsp;&nbsp;</span>Проверка исходной выборкой на стандартной модели из библиотеки Scikit-Learn</a></span></li></ul></li><li><span><a href=\"#Общий-вывод\" data-toc-modified-id=\"Общий-вывод-6\"><span class=\"toc-item-num\">6&nbsp;&nbsp;</span>Общий вывод</a></span></li></ul></div>"
   ]
  },
  {
   "cell_type": "markdown",
   "id": "fb3d7564",
   "metadata": {},
   "source": [
    "# Защита персональных данных клиентов"
   ]
  },
  {
   "cell_type": "markdown",
   "id": "3a92c1d7",
   "metadata": {},
   "source": [
    "Необходимо защитить данные клиентов страховой компании «Хоть потоп». Требуется разработать такой метод преобразования данных, чтобы по ним было сложно восстановить персональную информацию, а также обосновать корректность его работы.\n",
    "\n",
    "Защита данных при преобразовании не должна ухудшать качество моделей машинного обучения."
   ]
  },
  {
   "cell_type": "markdown",
   "id": "3bda872a",
   "metadata": {},
   "source": [
    "## Подключение необходимых библиотек и модулей"
   ]
  },
  {
   "cell_type": "code",
   "execution_count": 40,
   "id": "0eaae95d",
   "metadata": {},
   "outputs": [],
   "source": [
    "# 1. Подключение модуля pathlib\n",
    "import pathlib\n",
    "# 2. Подключение класса Path из модуля pathlib\n",
    "from pathlib import Path\n",
    "# 3. Подключение модуля warnings\n",
    "import warnings\n",
    "\n",
    "# 4. Подключение библиотеки Pandas\n",
    "import pandas as pd\n",
    "# 5. Подключение библиотеки NumPy\n",
    "import numpy as np\n",
    "# 6. Подключение библиотеки Seaborn\n",
    "import seaborn as sns\n",
    "# 7. Подключение библиотеки Scikit-Learn\n",
    "import sklearn\n",
    "\n",
    "# 8. Подключение модуля matplotlib.pyplot\n",
    "import matplotlib.pyplot as plt\n",
    "# 9. Подключение модели LinearRegression\n",
    "# из модуля sklearn.linear_model\n",
    "from sklearn.linear_model import LinearRegression\n",
    "# 10. Подключение функции r2_score() из\n",
    "# модуля sklearn.metrics\n",
    "from sklearn.metrics import r2_score"
   ]
  },
  {
   "cell_type": "code",
   "execution_count": 41,
   "id": "ba0fb05f",
   "metadata": {},
   "outputs": [],
   "source": [
    "# Отключение ограничения количества\n",
    "# выводимых колонок\n",
    "pd.set_option('display.max_columns', None)"
   ]
  },
  {
   "cell_type": "markdown",
   "id": "febc4924",
   "metadata": {},
   "source": [
    "## Подготовка данных"
   ]
  },
  {
   "cell_type": "markdown",
   "id": "b68a6899",
   "metadata": {},
   "source": [
    "### Открытие и изучение данных из файла"
   ]
  },
  {
   "cell_type": "code",
   "execution_count": 42,
   "id": "c57abe30",
   "metadata": {},
   "outputs": [
    {
     "data": {
      "text/html": [
       "<div>\n",
       "<style scoped>\n",
       "    .dataframe tbody tr th:only-of-type {\n",
       "        vertical-align: middle;\n",
       "    }\n",
       "\n",
       "    .dataframe tbody tr th {\n",
       "        vertical-align: top;\n",
       "    }\n",
       "\n",
       "    .dataframe thead th {\n",
       "        text-align: right;\n",
       "    }\n",
       "</style>\n",
       "<table border=\"1\" class=\"dataframe\">\n",
       "  <thead>\n",
       "    <tr style=\"text-align: right;\">\n",
       "      <th></th>\n",
       "      <th>Пол</th>\n",
       "      <th>Возраст</th>\n",
       "      <th>Зарплата</th>\n",
       "      <th>Члены семьи</th>\n",
       "      <th>Страховые выплаты</th>\n",
       "    </tr>\n",
       "  </thead>\n",
       "  <tbody>\n",
       "    <tr>\n",
       "      <th>0</th>\n",
       "      <td>1</td>\n",
       "      <td>41.0</td>\n",
       "      <td>49600.0</td>\n",
       "      <td>1</td>\n",
       "      <td>0</td>\n",
       "    </tr>\n",
       "    <tr>\n",
       "      <th>1</th>\n",
       "      <td>0</td>\n",
       "      <td>46.0</td>\n",
       "      <td>38000.0</td>\n",
       "      <td>1</td>\n",
       "      <td>1</td>\n",
       "    </tr>\n",
       "    <tr>\n",
       "      <th>2</th>\n",
       "      <td>0</td>\n",
       "      <td>29.0</td>\n",
       "      <td>21000.0</td>\n",
       "      <td>0</td>\n",
       "      <td>0</td>\n",
       "    </tr>\n",
       "    <tr>\n",
       "      <th>3</th>\n",
       "      <td>0</td>\n",
       "      <td>21.0</td>\n",
       "      <td>41700.0</td>\n",
       "      <td>2</td>\n",
       "      <td>0</td>\n",
       "    </tr>\n",
       "    <tr>\n",
       "      <th>4</th>\n",
       "      <td>1</td>\n",
       "      <td>28.0</td>\n",
       "      <td>26100.0</td>\n",
       "      <td>0</td>\n",
       "      <td>0</td>\n",
       "    </tr>\n",
       "  </tbody>\n",
       "</table>\n",
       "</div>"
      ],
      "text/plain": [
       "   Пол  Возраст  Зарплата  Члены семьи  Страховые выплаты\n",
       "0    1     41.0   49600.0            1                  0\n",
       "1    0     46.0   38000.0            1                  1\n",
       "2    0     29.0   21000.0            0                  0\n",
       "3    0     21.0   41700.0            2                  0\n",
       "4    1     28.0   26100.0            0                  0"
      ]
     },
     "metadata": {},
     "output_type": "display_data"
    }
   ],
   "source": [
    "# Создание и открытие датафрейма из датасета insurance\n",
    "try:\n",
    "    df = pd.read_csv('/datasets/insurance.csv')\n",
    "    display(df.head())\n",
    "except:\n",
    "    df = pd.read_csv(\n",
    "        Path(\n",
    "            pathlib.Path.cwd(),\n",
    "            'datasets',\n",
    "            'insurance.csv'\n",
    "        )\n",
    "    )\n",
    "    display(df.head())"
   ]
  },
  {
   "cell_type": "markdown",
   "id": "f4e11c2c",
   "metadata": {},
   "source": [
    "<div class=\"alert alert-block alert-warning\"><span style=\"color:green\"><font size=\"3\" face=\"Arial\"><b>Промежуточные выводы 2.1:<br><b/></span>\n",
    "<br>\n",
    "<span style=\"color:steelblue\"><font size=\"3\" face=\"Courier\"><b>1. Датафрейм `df` содержит `5000` строк и `5` колонок.<br>\n",
    "    2. Названия колонок написаны на кириллице с заглавной буквы.<br>\n",
    "    Необходимо переименовать для удобства работы.</b></span></div>"
   ]
  },
  {
   "cell_type": "code",
   "execution_count": 43,
   "id": "da01eb0d",
   "metadata": {
    "scrolled": true
   },
   "outputs": [
    {
     "name": "stdout",
     "output_type": "stream",
     "text": [
      "<class 'pandas.core.frame.DataFrame'>\n",
      "RangeIndex: 5000 entries, 0 to 4999\n",
      "Data columns (total 5 columns):\n",
      " #   Column             Non-Null Count  Dtype  \n",
      "---  ------             --------------  -----  \n",
      " 0   Пол                5000 non-null   int64  \n",
      " 1   Возраст            5000 non-null   float64\n",
      " 2   Зарплата           5000 non-null   float64\n",
      " 3   Члены семьи        5000 non-null   int64  \n",
      " 4   Страховые выплаты  5000 non-null   int64  \n",
      "dtypes: float64(2), int64(3)\n",
      "memory usage: 195.4 KB\n"
     ]
    }
   ],
   "source": [
    "# Вывод общей информации по df\n",
    "df.info()"
   ]
  },
  {
   "cell_type": "code",
   "execution_count": 44,
   "id": "f54e9e8e",
   "metadata": {},
   "outputs": [
    {
     "data": {
      "text/plain": [
       "Пол                  0\n",
       "Возраст              0\n",
       "Зарплата             0\n",
       "Члены семьи          0\n",
       "Страховые выплаты    0\n",
       "dtype: int64"
      ]
     },
     "execution_count": 44,
     "metadata": {},
     "output_type": "execute_result"
    }
   ],
   "source": [
    "# Определение количества пропусков\n",
    "df.isna().sum()"
   ]
  },
  {
   "cell_type": "markdown",
   "id": "45c0eae1",
   "metadata": {},
   "source": [
    "<div class=\"alert alert-block alert-warning\"><span style=\"color:green\"><font size=\"3\" face=\"Arial\"><b>Промежуточные выводы 2.2:<br><b/></span>\n",
    "    <br>\n",
    "<span style=\"color:steelblue\"><font size=\"3\" face=\"Courier\"><b>1. Во всех колонках числовой тип данных (целочисленные и вещественные).<br>\n",
    "    2. Пропуски не обнаружены.</b></span></div>"
   ]
  },
  {
   "cell_type": "code",
   "execution_count": 45,
   "id": "7d07e62a",
   "metadata": {},
   "outputs": [],
   "source": [
    "# Переименование колонок датафрейма на латиницу\n",
    "df.columns = [\n",
    "    'sex',\n",
    "    'age',\n",
    "    'income',\n",
    "    'number_family_members',\n",
    "    'number_insurance_payments'\n",
    "]"
   ]
  },
  {
   "cell_type": "code",
   "execution_count": 46,
   "id": "f6cb372b",
   "metadata": {},
   "outputs": [
    {
     "data": {
      "text/plain": [
       "153"
      ]
     },
     "execution_count": 46,
     "metadata": {},
     "output_type": "execute_result"
    }
   ],
   "source": [
    "# Вывод количества явных дубликатов\n",
    "df.duplicated().sum()"
   ]
  },
  {
   "cell_type": "code",
   "execution_count": 47,
   "id": "c693eb71",
   "metadata": {},
   "outputs": [
    {
     "data": {
      "text/html": [
       "<div>\n",
       "<style scoped>\n",
       "    .dataframe tbody tr th:only-of-type {\n",
       "        vertical-align: middle;\n",
       "    }\n",
       "\n",
       "    .dataframe tbody tr th {\n",
       "        vertical-align: top;\n",
       "    }\n",
       "\n",
       "    .dataframe thead th {\n",
       "        text-align: right;\n",
       "    }\n",
       "</style>\n",
       "<table border=\"1\" class=\"dataframe\">\n",
       "  <thead>\n",
       "    <tr style=\"text-align: right;\">\n",
       "      <th></th>\n",
       "      <th>sex</th>\n",
       "      <th>age</th>\n",
       "      <th>income</th>\n",
       "      <th>number_family_members</th>\n",
       "      <th>number_insurance_payments</th>\n",
       "    </tr>\n",
       "  </thead>\n",
       "  <tbody>\n",
       "    <tr>\n",
       "      <th>1566</th>\n",
       "      <td>1</td>\n",
       "      <td>18.0</td>\n",
       "      <td>39800.0</td>\n",
       "      <td>2</td>\n",
       "      <td>0</td>\n",
       "    </tr>\n",
       "    <tr>\n",
       "      <th>2429</th>\n",
       "      <td>1</td>\n",
       "      <td>18.0</td>\n",
       "      <td>39800.0</td>\n",
       "      <td>2</td>\n",
       "      <td>0</td>\n",
       "    </tr>\n",
       "    <tr>\n",
       "      <th>2694</th>\n",
       "      <td>1</td>\n",
       "      <td>19.0</td>\n",
       "      <td>52600.0</td>\n",
       "      <td>0</td>\n",
       "      <td>0</td>\n",
       "    </tr>\n",
       "    <tr>\n",
       "      <th>712</th>\n",
       "      <td>1</td>\n",
       "      <td>19.0</td>\n",
       "      <td>52600.0</td>\n",
       "      <td>0</td>\n",
       "      <td>0</td>\n",
       "    </tr>\n",
       "    <tr>\n",
       "      <th>851</th>\n",
       "      <td>0</td>\n",
       "      <td>19.0</td>\n",
       "      <td>51700.0</td>\n",
       "      <td>0</td>\n",
       "      <td>0</td>\n",
       "    </tr>\n",
       "    <tr>\n",
       "      <th>887</th>\n",
       "      <td>1</td>\n",
       "      <td>19.0</td>\n",
       "      <td>35500.0</td>\n",
       "      <td>0</td>\n",
       "      <td>0</td>\n",
       "    </tr>\n",
       "    <tr>\n",
       "      <th>664</th>\n",
       "      <td>1</td>\n",
       "      <td>19.0</td>\n",
       "      <td>35500.0</td>\n",
       "      <td>0</td>\n",
       "      <td>0</td>\n",
       "    </tr>\n",
       "    <tr>\n",
       "      <th>1336</th>\n",
       "      <td>1</td>\n",
       "      <td>19.0</td>\n",
       "      <td>32700.0</td>\n",
       "      <td>0</td>\n",
       "      <td>0</td>\n",
       "    </tr>\n",
       "    <tr>\n",
       "      <th>1751</th>\n",
       "      <td>0</td>\n",
       "      <td>19.0</td>\n",
       "      <td>38600.0</td>\n",
       "      <td>0</td>\n",
       "      <td>0</td>\n",
       "    </tr>\n",
       "    <tr>\n",
       "      <th>1990</th>\n",
       "      <td>1</td>\n",
       "      <td>19.0</td>\n",
       "      <td>41600.0</td>\n",
       "      <td>1</td>\n",
       "      <td>0</td>\n",
       "    </tr>\n",
       "  </tbody>\n",
       "</table>\n",
       "</div>"
      ],
      "text/plain": [
       "      sex   age   income  number_family_members  number_insurance_payments\n",
       "1566    1  18.0  39800.0                      2                          0\n",
       "2429    1  18.0  39800.0                      2                          0\n",
       "2694    1  19.0  52600.0                      0                          0\n",
       "712     1  19.0  52600.0                      0                          0\n",
       "851     0  19.0  51700.0                      0                          0\n",
       "887     1  19.0  35500.0                      0                          0\n",
       "664     1  19.0  35500.0                      0                          0\n",
       "1336    1  19.0  32700.0                      0                          0\n",
       "1751    0  19.0  38600.0                      0                          0\n",
       "1990    1  19.0  41600.0                      1                          0"
      ]
     },
     "execution_count": 47,
     "metadata": {},
     "output_type": "execute_result"
    }
   ],
   "source": [
    "# Вывод части датафрейма с явными дубликатами\n",
    "df[df.duplicated(keep=False)].sort_values(by='age').head(10)"
   ]
  },
  {
   "cell_type": "code",
   "execution_count": 48,
   "id": "b597a863",
   "metadata": {},
   "outputs": [
    {
     "data": {
      "text/plain": [
       "0    2505\n",
       "1    2495\n",
       "Name: sex, dtype: int64"
      ]
     },
     "execution_count": 48,
     "metadata": {},
     "output_type": "execute_result"
    }
   ],
   "source": [
    "# Поиск неявных дубликатов в 'sex'\n",
    "df['sex'].value_counts()"
   ]
  },
  {
   "cell_type": "code",
   "execution_count": 49,
   "id": "57f2f0f5",
   "metadata": {
    "scrolled": true
   },
   "outputs": [
    {
     "data": {
      "text/plain": [
       "19.0    223\n",
       "25.0    214\n",
       "31.0    212\n",
       "26.0    211\n",
       "22.0    209\n",
       "27.0    209\n",
       "32.0    206\n",
       "28.0    204\n",
       "29.0    203\n",
       "30.0    202\n",
       "23.0    202\n",
       "21.0    200\n",
       "20.0    195\n",
       "36.0    193\n",
       "33.0    191\n",
       "24.0    182\n",
       "35.0    179\n",
       "34.0    177\n",
       "37.0    147\n",
       "39.0    141\n",
       "38.0    139\n",
       "41.0    129\n",
       "18.0    117\n",
       "40.0    114\n",
       "42.0     93\n",
       "43.0     77\n",
       "44.0     74\n",
       "45.0     73\n",
       "46.0     60\n",
       "47.0     47\n",
       "49.0     37\n",
       "50.0     27\n",
       "48.0     26\n",
       "52.0     22\n",
       "51.0     21\n",
       "53.0     11\n",
       "55.0      9\n",
       "54.0      7\n",
       "56.0      5\n",
       "59.0      3\n",
       "57.0      2\n",
       "58.0      2\n",
       "60.0      2\n",
       "61.0      1\n",
       "65.0      1\n",
       "62.0      1\n",
       "Name: age, dtype: int64"
      ]
     },
     "execution_count": 49,
     "metadata": {},
     "output_type": "execute_result"
    }
   ],
   "source": [
    "# Поиск неявных дубликатов в 'age'\n",
    "df['age'].value_counts()"
   ]
  },
  {
   "cell_type": "code",
   "execution_count": 50,
   "id": "425f4c76",
   "metadata": {},
   "outputs": [
    {
     "data": {
      "text/plain": [
       "45800.0    29\n",
       "37100.0    28\n",
       "41500.0    27\n",
       "43200.0    27\n",
       "46800.0    26\n",
       "           ..\n",
       "17700.0     1\n",
       "70600.0     1\n",
       "18100.0     1\n",
       "13000.0     1\n",
       "56800.0     1\n",
       "Name: income, Length: 524, dtype: int64"
      ]
     },
     "execution_count": 50,
     "metadata": {},
     "output_type": "execute_result"
    }
   ],
   "source": [
    "# Поиск неявных дубликатов в 'income'\n",
    "df['income'].value_counts()"
   ]
  },
  {
   "cell_type": "code",
   "execution_count": 51,
   "id": "fe76dc77",
   "metadata": {},
   "outputs": [
    {
     "data": {
      "text/plain": [
       "1    1814\n",
       "0    1513\n",
       "2    1071\n",
       "3     439\n",
       "4     124\n",
       "5      32\n",
       "6       7\n",
       "Name: number_family_members, dtype: int64"
      ]
     },
     "execution_count": 51,
     "metadata": {},
     "output_type": "execute_result"
    }
   ],
   "source": [
    "# Поиск неявных дубликатов в 'number_family_members'\n",
    "df['number_family_members'].value_counts()"
   ]
  },
  {
   "cell_type": "code",
   "execution_count": 52,
   "id": "323a0547",
   "metadata": {},
   "outputs": [
    {
     "data": {
      "text/plain": [
       "0    4436\n",
       "1     423\n",
       "2     115\n",
       "3      18\n",
       "4       7\n",
       "5       1\n",
       "Name: number_insurance_payments, dtype: int64"
      ]
     },
     "execution_count": 52,
     "metadata": {},
     "output_type": "execute_result"
    }
   ],
   "source": [
    "# Поиск неявных дубликатов в 'number_insurance_payments'\n",
    "df['number_insurance_payments'].value_counts()"
   ]
  },
  {
   "cell_type": "markdown",
   "id": "b0fb0843",
   "metadata": {},
   "source": [
    "<div class=\"alert alert-block alert-warning\"><span style=\"color:green\"><font size=\"3\" face=\"Arial\"><b>Промежуточные выводы 2.3:<br><b/></span>\n",
    "    <br>\n",
    "<span style=\"color:steelblue\"><font size=\"3\" face=\"Courier\"><b>1. Обнаружены явные дубликаты в количестве `153` штук.<br>\n",
    "    Данные дубликаты удаляю для исключения возможного искажения обучающих данных.<br>\n",
    "    2. Неявные дубликаты не обнаружены.</b></span></div>"
   ]
  },
  {
   "cell_type": "markdown",
   "id": "66910697",
   "metadata": {},
   "source": [
    "### Пердобработка данных"
   ]
  },
  {
   "cell_type": "code",
   "execution_count": 53,
   "id": "b21ee14c",
   "metadata": {
    "scrolled": true
   },
   "outputs": [],
   "source": [
    "# Удаление явных дубликатов df\n",
    "df.drop_duplicates(inplace=True)"
   ]
  },
  {
   "cell_type": "code",
   "execution_count": 54,
   "id": "473fde60",
   "metadata": {},
   "outputs": [
    {
     "data": {
      "text/html": [
       "<div>\n",
       "<style scoped>\n",
       "    .dataframe tbody tr th:only-of-type {\n",
       "        vertical-align: middle;\n",
       "    }\n",
       "\n",
       "    .dataframe tbody tr th {\n",
       "        vertical-align: top;\n",
       "    }\n",
       "\n",
       "    .dataframe thead th {\n",
       "        text-align: right;\n",
       "    }\n",
       "</style>\n",
       "<table border=\"1\" class=\"dataframe\">\n",
       "  <thead>\n",
       "    <tr style=\"text-align: right;\">\n",
       "      <th></th>\n",
       "      <th>sex</th>\n",
       "      <th>age</th>\n",
       "      <th>income</th>\n",
       "      <th>number_family_members</th>\n",
       "      <th>number_insurance_payments</th>\n",
       "    </tr>\n",
       "  </thead>\n",
       "  <tbody>\n",
       "    <tr>\n",
       "      <th>0</th>\n",
       "      <td>1</td>\n",
       "      <td>41.0</td>\n",
       "      <td>49600.0</td>\n",
       "      <td>1</td>\n",
       "      <td>0</td>\n",
       "    </tr>\n",
       "    <tr>\n",
       "      <th>1</th>\n",
       "      <td>0</td>\n",
       "      <td>46.0</td>\n",
       "      <td>38000.0</td>\n",
       "      <td>1</td>\n",
       "      <td>1</td>\n",
       "    </tr>\n",
       "    <tr>\n",
       "      <th>2</th>\n",
       "      <td>0</td>\n",
       "      <td>29.0</td>\n",
       "      <td>21000.0</td>\n",
       "      <td>0</td>\n",
       "      <td>0</td>\n",
       "    </tr>\n",
       "    <tr>\n",
       "      <th>3</th>\n",
       "      <td>0</td>\n",
       "      <td>21.0</td>\n",
       "      <td>41700.0</td>\n",
       "      <td>2</td>\n",
       "      <td>0</td>\n",
       "    </tr>\n",
       "    <tr>\n",
       "      <th>4</th>\n",
       "      <td>1</td>\n",
       "      <td>28.0</td>\n",
       "      <td>26100.0</td>\n",
       "      <td>0</td>\n",
       "      <td>0</td>\n",
       "    </tr>\n",
       "  </tbody>\n",
       "</table>\n",
       "</div>"
      ],
      "text/plain": [
       "   sex   age   income  number_family_members  number_insurance_payments\n",
       "0    1  41.0  49600.0                      1                          0\n",
       "1    0  46.0  38000.0                      1                          1\n",
       "2    0  29.0  21000.0                      0                          0\n",
       "3    0  21.0  41700.0                      2                          0\n",
       "4    1  28.0  26100.0                      0                          0"
      ]
     },
     "execution_count": 54,
     "metadata": {},
     "output_type": "execute_result"
    }
   ],
   "source": [
    "# Сброс индексации в df\n",
    "df.reset_index(drop=True, inplace=True)\n",
    "df.head()"
   ]
  },
  {
   "cell_type": "markdown",
   "id": "7bbd7986",
   "metadata": {},
   "source": [
    "<div class=\"alert alert-block alert-warning\"><span style=\"color:green\"><font size=\"3\" face=\"Arial\"><b>Промежуточные выводы 2.4:<br><b/></span>\n",
    "    <br>\n",
    "<span style=\"color:steelblue\"><font size=\"3\" face=\"Courier\"><b>1. Колонки переименованы.<br>\n",
    "    2. Явные дубликаты удалены.</b></span></div>"
   ]
  },
  {
   "cell_type": "markdown",
   "id": "b09124b6",
   "metadata": {},
   "source": [
    "### Исследовательский анализ данных"
   ]
  },
  {
   "cell_type": "code",
   "execution_count": 55,
   "id": "7cba7396",
   "metadata": {},
   "outputs": [
    {
     "data": {
      "text/html": [
       "<div>\n",
       "<style scoped>\n",
       "    .dataframe tbody tr th:only-of-type {\n",
       "        vertical-align: middle;\n",
       "    }\n",
       "\n",
       "    .dataframe tbody tr th {\n",
       "        vertical-align: top;\n",
       "    }\n",
       "\n",
       "    .dataframe thead th {\n",
       "        text-align: right;\n",
       "    }\n",
       "</style>\n",
       "<table border=\"1\" class=\"dataframe\">\n",
       "  <thead>\n",
       "    <tr style=\"text-align: right;\">\n",
       "      <th></th>\n",
       "      <th>sex</th>\n",
       "      <th>age</th>\n",
       "      <th>income</th>\n",
       "      <th>number_family_members</th>\n",
       "      <th>number_insurance_payments</th>\n",
       "    </tr>\n",
       "  </thead>\n",
       "  <tbody>\n",
       "    <tr>\n",
       "      <th>count</th>\n",
       "      <td>4847.000000</td>\n",
       "      <td>4847.000000</td>\n",
       "      <td>4847.000000</td>\n",
       "      <td>4847.000000</td>\n",
       "      <td>4847.000000</td>\n",
       "    </tr>\n",
       "    <tr>\n",
       "      <th>mean</th>\n",
       "      <td>0.498453</td>\n",
       "      <td>31.023932</td>\n",
       "      <td>39895.811842</td>\n",
       "      <td>1.203425</td>\n",
       "      <td>0.152259</td>\n",
       "    </tr>\n",
       "    <tr>\n",
       "      <th>std</th>\n",
       "      <td>0.500049</td>\n",
       "      <td>8.487995</td>\n",
       "      <td>9972.953985</td>\n",
       "      <td>1.098664</td>\n",
       "      <td>0.468934</td>\n",
       "    </tr>\n",
       "    <tr>\n",
       "      <th>min</th>\n",
       "      <td>0.000000</td>\n",
       "      <td>18.000000</td>\n",
       "      <td>5300.000000</td>\n",
       "      <td>0.000000</td>\n",
       "      <td>0.000000</td>\n",
       "    </tr>\n",
       "    <tr>\n",
       "      <th>25%</th>\n",
       "      <td>0.000000</td>\n",
       "      <td>24.000000</td>\n",
       "      <td>33200.000000</td>\n",
       "      <td>0.000000</td>\n",
       "      <td>0.000000</td>\n",
       "    </tr>\n",
       "    <tr>\n",
       "      <th>50%</th>\n",
       "      <td>0.000000</td>\n",
       "      <td>30.000000</td>\n",
       "      <td>40200.000000</td>\n",
       "      <td>1.000000</td>\n",
       "      <td>0.000000</td>\n",
       "    </tr>\n",
       "    <tr>\n",
       "      <th>75%</th>\n",
       "      <td>1.000000</td>\n",
       "      <td>37.000000</td>\n",
       "      <td>46600.000000</td>\n",
       "      <td>2.000000</td>\n",
       "      <td>0.000000</td>\n",
       "    </tr>\n",
       "    <tr>\n",
       "      <th>max</th>\n",
       "      <td>1.000000</td>\n",
       "      <td>65.000000</td>\n",
       "      <td>79000.000000</td>\n",
       "      <td>6.000000</td>\n",
       "      <td>5.000000</td>\n",
       "    </tr>\n",
       "  </tbody>\n",
       "</table>\n",
       "</div>"
      ],
      "text/plain": [
       "               sex          age        income  number_family_members  \\\n",
       "count  4847.000000  4847.000000   4847.000000            4847.000000   \n",
       "mean      0.498453    31.023932  39895.811842               1.203425   \n",
       "std       0.500049     8.487995   9972.953985               1.098664   \n",
       "min       0.000000    18.000000   5300.000000               0.000000   \n",
       "25%       0.000000    24.000000  33200.000000               0.000000   \n",
       "50%       0.000000    30.000000  40200.000000               1.000000   \n",
       "75%       1.000000    37.000000  46600.000000               2.000000   \n",
       "max       1.000000    65.000000  79000.000000               6.000000   \n",
       "\n",
       "       number_insurance_payments  \n",
       "count                4847.000000  \n",
       "mean                    0.152259  \n",
       "std                     0.468934  \n",
       "min                     0.000000  \n",
       "25%                     0.000000  \n",
       "50%                     0.000000  \n",
       "75%                     0.000000  \n",
       "max                     5.000000  "
      ]
     },
     "execution_count": 55,
     "metadata": {},
     "output_type": "execute_result"
    }
   ],
   "source": [
    "# Вывод списка характерных значений\n",
    "df.describe()"
   ]
  },
  {
   "cell_type": "code",
   "execution_count": 56,
   "id": "7bb636a6",
   "metadata": {
    "scrolled": true
   },
   "outputs": [
    {
     "data": {
      "text/html": [
       "<div>\n",
       "<style scoped>\n",
       "    .dataframe tbody tr th:only-of-type {\n",
       "        vertical-align: middle;\n",
       "    }\n",
       "\n",
       "    .dataframe tbody tr th {\n",
       "        vertical-align: top;\n",
       "    }\n",
       "\n",
       "    .dataframe thead th {\n",
       "        text-align: right;\n",
       "    }\n",
       "</style>\n",
       "<table border=\"1\" class=\"dataframe\">\n",
       "  <thead>\n",
       "    <tr style=\"text-align: right;\">\n",
       "      <th></th>\n",
       "      <th>sex</th>\n",
       "      <th>age</th>\n",
       "      <th>income</th>\n",
       "      <th>number_family_members</th>\n",
       "      <th>number_insurance_payments</th>\n",
       "    </tr>\n",
       "  </thead>\n",
       "  <tbody>\n",
       "    <tr>\n",
       "      <th>sex</th>\n",
       "      <td>1.000000</td>\n",
       "      <td>0.001953</td>\n",
       "      <td>0.015456</td>\n",
       "      <td>-0.007315</td>\n",
       "      <td>0.011565</td>\n",
       "    </tr>\n",
       "    <tr>\n",
       "      <th>age</th>\n",
       "      <td>0.001953</td>\n",
       "      <td>1.000000</td>\n",
       "      <td>-0.017386</td>\n",
       "      <td>-0.009064</td>\n",
       "      <td>0.654964</td>\n",
       "    </tr>\n",
       "    <tr>\n",
       "      <th>income</th>\n",
       "      <td>0.015456</td>\n",
       "      <td>-0.017386</td>\n",
       "      <td>1.000000</td>\n",
       "      <td>-0.031687</td>\n",
       "      <td>-0.013123</td>\n",
       "    </tr>\n",
       "    <tr>\n",
       "      <th>number_family_members</th>\n",
       "      <td>-0.007315</td>\n",
       "      <td>-0.009064</td>\n",
       "      <td>-0.031687</td>\n",
       "      <td>1.000000</td>\n",
       "      <td>-0.039303</td>\n",
       "    </tr>\n",
       "    <tr>\n",
       "      <th>number_insurance_payments</th>\n",
       "      <td>0.011565</td>\n",
       "      <td>0.654964</td>\n",
       "      <td>-0.013123</td>\n",
       "      <td>-0.039303</td>\n",
       "      <td>1.000000</td>\n",
       "    </tr>\n",
       "  </tbody>\n",
       "</table>\n",
       "</div>"
      ],
      "text/plain": [
       "                                sex       age    income  \\\n",
       "sex                        1.000000  0.001953  0.015456   \n",
       "age                        0.001953  1.000000 -0.017386   \n",
       "income                     0.015456 -0.017386  1.000000   \n",
       "number_family_members     -0.007315 -0.009064 -0.031687   \n",
       "number_insurance_payments  0.011565  0.654964 -0.013123   \n",
       "\n",
       "                           number_family_members  number_insurance_payments  \n",
       "sex                                    -0.007315                   0.011565  \n",
       "age                                    -0.009064                   0.654964  \n",
       "income                                 -0.031687                  -0.013123  \n",
       "number_family_members                   1.000000                  -0.039303  \n",
       "number_insurance_payments              -0.039303                   1.000000  "
      ]
     },
     "execution_count": 56,
     "metadata": {},
     "output_type": "execute_result"
    }
   ],
   "source": [
    "# Формирование и вывод матрицы коэффициентов корреляции\n",
    "corr = df.corr()\n",
    "corr"
   ]
  },
  {
   "cell_type": "code",
   "execution_count": 57,
   "id": "dccc6ae1",
   "metadata": {},
   "outputs": [
    {
     "data": {
      "image/png": "[encoded data removed]",
      "text/plain": [
       "<Figure size 720x720 with 2 Axes>"
      ]
     },
     "metadata": {
      "needs_background": "light"
     },
     "output_type": "display_data"
    }
   ],
   "source": [
    "# 1. Формирование маски для нижнего треугольника\n",
    "# матрицы коэффициентов корреляции\n",
    "mask = np.triu(np.ones_like(corr, dtype=bool))\n",
    "# 2. Формирование пользовательской палитры\n",
    "cmap = sns.color_palette('hls', 8)\n",
    "# 3. Задание размеров графика\n",
    "plt.figure(figsize=(10, 10))\n",
    "# 4. Вывод тепловой карты коэффициентов корреляции\n",
    "sns.heatmap(\n",
    "    corr,\n",
    "    mask=mask,\n",
    "    cmap=cmap,\n",
    "    vmax=1,\n",
    "    center=0,\n",
    "    annot=True,\n",
    "    square=True,\n",
    "    linewidths=.8,\n",
    "    cbar_kws={\"shrink\": .6}\n",
    ")\n",
    "plt.show()"
   ]
  },
  {
   "cell_type": "markdown",
   "id": "e911b1ff",
   "metadata": {},
   "source": [
    "<div class=\"alert alert-block alert-warning\"><span style=\"color:green\"><font size=\"3\" face=\"Arial\"><b>Промежуточные выводы 2.5:<br><b/></span>\n",
    "    <br>\n",
    "<span style=\"color:steelblue\"><font size=\"3\" face=\"Courier\"><b>Между количеством выплат `number_insurance_payments` и возрастом `age` существует зависимость выше среднего - чем больше возраст, тем больше количество выплат.<br>\n",
    "    Можно сказать, что между остальными признаками корреляция отсутствует.</b></span></div>"
   ]
  },
  {
   "cell_type": "markdown",
   "id": "2a675d1a",
   "metadata": {},
   "source": [
    "## Подготовка признаков"
   ]
  },
  {
   "cell_type": "markdown",
   "id": "08b15c26",
   "metadata": {},
   "source": [
    "### Создание обучающих признаков"
   ]
  },
  {
   "cell_type": "code",
   "execution_count": 58,
   "id": "74e01910",
   "metadata": {},
   "outputs": [
    {
     "data": {
      "text/plain": [
       "(4847, 4)"
      ]
     },
     "execution_count": 58,
     "metadata": {},
     "output_type": "execute_result"
    }
   ],
   "source": [
    "# Формирование обучающей выборки с признаками (вопросами)\n",
    "features_train = df.drop(columns='number_insurance_payments', axis=1)\n",
    "features_train.shape"
   ]
  },
  {
   "cell_type": "code",
   "execution_count": 59,
   "id": "5fe6b71c",
   "metadata": {},
   "outputs": [
    {
     "data": {
      "text/plain": [
       "4847"
      ]
     },
     "execution_count": 59,
     "metadata": {},
     "output_type": "execute_result"
    }
   ],
   "source": [
    "# Формирование обучающей выборки с целевыми признаками (ответами)\n",
    "target_train = df['number_insurance_payments']\n",
    "len(target_train)"
   ]
  },
  {
   "cell_type": "markdown",
   "id": "333c9263",
   "metadata": {},
   "source": [
    "<div class=\"alert alert-block alert-warning\"><span style=\"color:green\"><font size=\"3\" face=\"Arial\"><b>Промежуточные выводы 3.1:<br><b/></span>\n",
    "    <br>\n",
    "<span style=\"color:steelblue\"><font size=\"3\" face=\"Courier\"><b>Обучающие признаки успешно сформированы.</b></span></div>"
   ]
  },
  {
   "cell_type": "markdown",
   "id": "addda7ee",
   "metadata": {},
   "source": [
    "\n",
    "## Умножение матриц"
   ]
  },
  {
   "cell_type": "markdown",
   "id": "0bfd0064",
   "metadata": {},
   "source": [
    "### Проверка зависимости изменений качества линейной регрессии от умножения признаков на обратимую матрицу"
   ]
  },
  {
   "cell_type": "markdown",
   "id": "75353196",
   "metadata": {},
   "source": [
    "1. Рассмотрим основные определения и расчёты при обучении модели.\n",
    "\n",
    "<b>Линейная регрессия</b> - модель, отражающая связь между зависимой переменной `у` и независимой или независимыми переменными `х` с линейной функцией зависимости.\n",
    "\n",
    "<b>Линейная функция</b> - функция, приращение которой пропорционально приращению аргумента, и имеет вид:\n",
    "\n",
    "$$\n",
    "f(x) = y = k * x + b\n",
    "$$\n",
    "\n",
    "где:\n",
    "\n",
    "* $x$ - независимая переменная (аргумент, признак);\n",
    "\n",
    "* $k$ - угловой коэффициент прямой;\n",
    "\n",
    "* $b$ - величина сдвига прямой.\n",
    "\n",
    "<b>Основная задача</b> - найти коэффициенты линейной функции, которая минимизирует функцию потерь, характеризующую насколько сильно линейная функция отклоняется от значений в заданных точках:\n",
    "\n",
    "$$\n",
    "MSE = \\frac{1}{n}\\sum_{i=0}^n(y_{i} - f(x_{i}))^2 = \\frac{1}{n}\\sum_{i=0}^n(y_{i} - k * x_{i} - b)^2\n",
    "$$\n",
    "\n",
    "<b>Представим признаки в матричном виде.</b>\n",
    "\n",
    "К таблице добавим единичный вектор-столбец, что позволит избавиться от свободного члена `b` и поместить его в вектор весов `w`. Полученную таблицу можно выделить в матрицу `X`, целевую переменную в вектор `y`, тогда, используя правило умножения матриц, средняя квадратичная ошибка `MSE`:\n",
    "\n",
    "$$\n",
    "MSE = \\frac{1}{n}\\sum_{i=0}^n(y_{i} - X_{i} * \\overrightarrow{w})^2 = \\frac{1}{n}\\sum_{i=0}^n(y_{i} - X_{i} * \\overrightarrow{w})^T * (y_{i} - X_{i} * \\overrightarrow{w})\n",
    "$$\n",
    "\n",
    "где:\n",
    "\n",
    "- $X_{i}$ — i-тый вектор матрицы признаков `X`;\n",
    "\n",
    "- $y_{i}$ — i-тый скаляр вектора целевых признаков `y`;\n",
    "\n",
    "- $\\overrightarrow{w}$ — вектор весов линейной регрессии (нулевой элемент равен сдвигу).\n",
    "\n",
    "Используя правила транспонирования и перемножения, получим:\n",
    "\n",
    "$$\n",
    "(\\overrightarrow{y}^T - \\overrightarrow{w}^T * X^T) * (\\overrightarrow{y} - X * \\overrightarrow{w}) = \\overrightarrow{y}^T * \\overrightarrow{y} - \\overrightarrow{y}^T * X * \\overrightarrow{w} - \\overrightarrow{w}^T * X^T * \\overrightarrow{y} + \\overrightarrow{w}^T * X^T * X * \\overrightarrow{w}\n",
    "$$\n",
    "\n",
    "<b>Экстремум</b> — максимальное или минимальное значение функции на заданном множестве.\n",
    "\n",
    "Найдём минимум функции через частную производную по вектору весов `w`:\n",
    "\n",
    "$$\n",
    "- X^T * \\overrightarrow{y} - X^T * \\overrightarrow{y} + 2 * X^T * X * \\overrightarrow{w} = 0\n",
    "$$\n",
    "\n",
    "Отсюда:\n",
    "\n",
    "$$\n",
    "2 * X^T * X * \\overrightarrow{w} = 2 * X^T * \\overrightarrow{y}\n",
    "$$\n",
    "\n",
    "Тогда формула обучения (определение вектора весов):\n",
    "\n",
    "$$\n",
    "\\overrightarrow{w} = (X^T * X)^{-1} * X^T * \\overrightarrow{y}\n",
    "$$\n",
    "\n",
    "А вектор предсказаний:\n",
    "\n",
    "$$\n",
    "\\overrightarrow{a} = X * \\overrightarrow{w}\n",
    "$$\n",
    "\n",
    "Задача обучения:\n",
    "\n",
    "$$\n",
    "w = \\arg\\min_w MSE(Xw, y)\n",
    "$$\n",
    "\n",
    "2. При умножении признаков (вопросов) на обратимую матрицу формулы примут вид:\n",
    "\n",
    "Формула обучения (определение вектора весов):\n",
    "\n",
    "$$\n",
    "\\overrightarrow{w}' = ((X * P)^T * (X * P))^{-1} * (X * P)^T * \\overrightarrow{y}\n",
    "$$\n",
    "\n",
    "где:\n",
    "\n",
    "- $P$ — матрица, на которую умножаются признаки.\n",
    "\n",
    "Определение вектора предсказаний:\n",
    "\n",
    "$$\n",
    "\\overrightarrow{a}' = (X * P) * w'\n",
    "$$\n",
    "\n",
    "Используя особенности матричных операций:\n",
    "\n",
    "$$\n",
    "(AB)^T = B^TA^T\n",
    "$$\n",
    "\n",
    "$$\n",
    "(AB)^{-1} = B^{-1}A^{-1}\n",
    "$$\n",
    "\n",
    "$$\n",
    "AA^{-1} = A^{-1}A = E\n",
    "$$\n",
    "\n",
    "$$\n",
    "EA = AE = A\n",
    "$$\n",
    "\n",
    "$$\n",
    "ABC = A(BC) = (AB)C\n",
    "$$\n",
    "\n",
    "Разложим формулу вектора весов `w'`:\n",
    "\n",
    "$$\n",
    "\\overrightarrow{w}' = ((XP)^{T} * XP)^{-1} * (XP)^{T} * y = (P^{T} * X^{T} * X * P)^{-1} * P^{T} * X^{T} * \\overrightarrow{y}\n",
    "$$\n",
    "\n",
    "$$\n",
    "\\overrightarrow{w}' = P^{-1} * (X^{T} * X)^{-1} * (P^{T})^{-1} * P^{T} * X^{T} * \\overrightarrow{y}\n",
    "$$\n",
    "\n",
    "Подставим полученное значение в формулу вектора предсказаний `a'`:\n",
    "\n",
    "$$\n",
    "\\overrightarrow{a}' = (X*P) * \\overrightarrow{w}' = X * P * P^{-1} * (X^{T} * X)^{-1} * (P^{T})^{-1} * P^{T} * X^{T} * \\overrightarrow{y}\n",
    "$$\n",
    "\n",
    "$$\n",
    "\\overrightarrow{a}' = X * (X^{T} * X)^{-1} * X^{T} * \\overrightarrow{y}\n",
    "$$\n",
    "\n",
    "Часть уравнения $(X^{T} * X)^{-1} * X^{T} * \\overrightarrow{y}$ возвращает к исходной формуле определения вектора весов `w`, следовательно:\n",
    "\n",
    "$$\n",
    "\\overrightarrow{a}' = X * \\overrightarrow{w} = \\overrightarrow{a}\n",
    "$$"
   ]
  },
  {
   "cell_type": "markdown",
   "id": "889a1356",
   "metadata": {},
   "source": [
    "<div class=\"alert alert-block alert-warning\"><span style=\"color:green\"><font size=\"3\" face=\"Arial\"><b>Промежуточные выводы 4.1:<br><b/></span>\n",
    "    <br>\n",
    "<span style=\"color:steelblue\"><font size=\"3\" face=\"Courier\"><b>Используя особенности операций над транспонированными, обратными и единичными матрицами удалось доказать, что качество обучения и предсказаний модели линейной регрессии при шифровании данных не изменится.</b></span></div>"
   ]
  },
  {
   "cell_type": "markdown",
   "id": "1654030e",
   "metadata": {},
   "source": [
    "## Создание и проверка алгоритма преобразования данных для решения задачи"
   ]
  },
  {
   "cell_type": "markdown",
   "id": "a4cd58ba",
   "metadata": {},
   "source": [
    "### Описание алгоритма"
   ]
  },
  {
   "cell_type": "markdown",
   "id": "d92691cb",
   "metadata": {},
   "source": [
    "<b>Создание класса модели линейной регрессии с алгоритмом преобразования данных:</b>\n",
    "\n",
    "1. Создам метод `__init__` для инициализации начального состояния объекта:\n",
    "\n",
    "   * Сформировать атрибуты с вектором углов наклона `self.coef_` и величиной сдвига `self.intercept_`. Значения по умолчанию не определены.\n",
    "   \n",
    "   * Метод позволит получать значения напрямую без обращения к методу.\n",
    "   \n",
    "\n",
    "2. Создам метод `fit` для формирования обратимой матрицы случайных значений `rm` и обучения с параметрами `self, features_train_income, target_train_income`:\n",
    "\n",
    "   * Необходимо сформировать случайным образом обратимую (квадратную) матрицу размерностью строк и столбцов, равной количеству столбцов в матрице обучающих признаков (вопросов) `features_train_income.shape[1]`.\n",
    "  \n",
    "   * При этом следует проверять матрицу на обратимость - для квадратной матрицы с элементами из некоторого поля невырожденность эквивалентна обратимости, а определитель невырожденной матрицы отличен от нуля.\n",
    "   \n",
    "   * Матрицу `features_train_income` умножу на обратимую матрицу случайных значений; получим матрицу `X1`.   \n",
    "   \n",
    "   * Для упрощения формулы определения вектора весов нужно добавить в матрицу признаков (вопросов) `X1` нулевой столбец из единиц; получим матрицу `X`.\n",
    "     \n",
    "   * Транспонированную матрицу признаков (вопросов) `X`$^T$ умножить на себя `X`.  \n",
    "   \n",
    "   * Вычислить обратную к результату (`X`$^T$*`X`)$^{-1}$ матрицу.   \n",
    "   \n",
    "   * Обратную к результату (`X`$^T$*`X`)$^{-1}$ матрицу умножить на транспонированную матрицу признаков `X`$^T$.  \n",
    "   \n",
    "   * Полученную матрицу умножить на вектор значений целевых признаков (ответов) `y`. Вектор весов `w` вычислен.\n",
    "   \n",
    "   * Из полученного вектора весов `w` перезаписать атрибуты с вектором углов наклона `self.coef_` и величиной сдвига `self.intercept_`.   \n",
    "   \n",
    "   * Для проверки качества обучения модели из библиотеки `Scikit-Learn` возвращаю функцию матрицей признаков `X1`.\n",
    "\n",
    "\n",
    "3. Создам метод `predict` для получения предсказаний с параметрами `self, features_test_income`:\n",
    "\n",
    "   * Для соблюдения правильности вычисления предсказаний необходимо умножить тестовые признаки `features_test_income` на ту же обратимую матрицу `rm`.\n",
    "   \n",
    "   * Возвратить функцию суммой произведения матрицы тестовых признаков (вопросов) на вектор углов наклона `self.coef_` c величиной сдвига `self.intercept_`.\n",
    "   \n",
    "\n",
    "4. Контроль влияния шифрования данных можно выполнять с помощью метрики `R2` на полученных предсказаниях, а также величиной сдвига прямой. Значения должны быть идентичны."
   ]
  },
  {
   "cell_type": "markdown",
   "id": "ea2d9950",
   "metadata": {},
   "source": [
    "### Программирование алгоритма"
   ]
  },
  {
   "cell_type": "code",
   "execution_count": 60,
   "id": "1ef588c8",
   "metadata": {},
   "outputs": [],
   "source": [
    "# 1. Создание класса линейной регрессии LinearRegressionNew\n",
    "class LinearRegressionNew:        \n",
    "    \n",
    "    # 2. Инициализация начального состояния объекта\n",
    "    def __init__(self):\n",
    "        # 2.1. Создание атрибута коэффициентов наклона\n",
    "        # внутри класса\n",
    "        self.coef_ = None\n",
    "        # 2.2. Создание атрибута величины сдвига\n",
    "        # внутри класса\n",
    "        self.intercept_ = None\n",
    "    \n",
    "    # 3. Создание метода, формирующего обратимую матрицу\n",
    "    # случайных значений и обучающего модель\n",
    "    def fit(self, features_train_income, target_train_income):\n",
    "        # 3.1. Формирование атрибута матрицы случайных значений\n",
    "        self.rm = np.random.randint(\n",
    "            low=1,\n",
    "            high=50,\n",
    "            size=(features_train_income.shape[1], features_train_income.shape[1])\n",
    "        )\n",
    "        # 3.2. Цикл проверки невырожденности матрицы rm\n",
    "        while np.linalg.det(self.rm) == 0:\n",
    "            # 3.2.1. Перезапись матрицы в случае вырожденности\n",
    "            self.rm = np.random.randint(\n",
    "                low=1,\n",
    "                high=50,\n",
    "                size=(features_train_income.shape[1], features_train_income.shape[1])\n",
    "            )\n",
    "        # 3.3. Умножение матрицы признаков features_train_income \n",
    "        # на обратимую матрицу случайных значений rm\n",
    "        X1 = np.array(features_train_income).dot(self.rm)\n",
    "        # 3.4. Добавление нулевой колонки единиц в матрицу\n",
    "        # признаков X\n",
    "        X = np.concatenate(\n",
    "            (np.ones((X1.shape[0], 1)), X1),\n",
    "            axis=1\n",
    "        )\n",
    "        # 3.5. Формирование переменной с целевыми признаками\n",
    "        y = np.array(target_train_income)\n",
    "        # 3.6. Определение вектора весов\n",
    "        w = ((np.linalg.inv(X.T.dot(X))).dot(X.T)).dot(y)\n",
    "        # 3.7. Перезапись атрибута коэффициентов наклона\n",
    "        self.coef_ = w[1:]\n",
    "        # 3.8. Перезапись атрибута величины сдвига\n",
    "        self.intercept_ = w[0]\n",
    "        # 3.9. Возвращение функции\n",
    "        return pd.DataFrame(X1), self.rm\n",
    "    \n",
    "    # 4. Создание метода, формирующего предсказания\n",
    "    def predict(self, features_test_income):\n",
    "        # 4.1. Возвращение вектора с предсказаниями (сумма\n",
    "        # произведения матрицы признаков (вопросов) на вектор\n",
    "        # углов наклона self.coef_ c величиной сдвига self.intercept_)\n",
    "        return (np.array(features_test_income).dot(self.rm)).dot(self.coef_) + self.intercept_"
   ]
  },
  {
   "cell_type": "markdown",
   "id": "8863fba6",
   "metadata": {},
   "source": [
    "### Создание и обучение модели с помощью созданного класса"
   ]
  },
  {
   "cell_type": "code",
   "execution_count": 61,
   "id": "32aaeb7f",
   "metadata": {},
   "outputs": [],
   "source": [
    "# Создание объекта структуры данных\n",
    "linear1 = LinearRegressionNew()"
   ]
  },
  {
   "cell_type": "code",
   "execution_count": 62,
   "id": "3b61bff1",
   "metadata": {},
   "outputs": [
    {
     "data": {
      "text/html": [
       "<div>\n",
       "<style scoped>\n",
       "    .dataframe tbody tr th:only-of-type {\n",
       "        vertical-align: middle;\n",
       "    }\n",
       "\n",
       "    .dataframe tbody tr th {\n",
       "        vertical-align: top;\n",
       "    }\n",
       "\n",
       "    .dataframe thead th {\n",
       "        text-align: right;\n",
       "    }\n",
       "</style>\n",
       "<table border=\"1\" class=\"dataframe\">\n",
       "  <thead>\n",
       "    <tr style=\"text-align: right;\">\n",
       "      <th></th>\n",
       "      <th>0</th>\n",
       "      <th>1</th>\n",
       "      <th>2</th>\n",
       "      <th>3</th>\n",
       "    </tr>\n",
       "  </thead>\n",
       "  <tbody>\n",
       "    <tr>\n",
       "      <th>0</th>\n",
       "      <td>1340891.0</td>\n",
       "      <td>150106.0</td>\n",
       "      <td>1340400.0</td>\n",
       "      <td>645942.0</td>\n",
       "    </tr>\n",
       "    <tr>\n",
       "      <th>1</th>\n",
       "      <td>1027856.0</td>\n",
       "      <td>115443.0</td>\n",
       "      <td>1027335.0</td>\n",
       "      <td>495256.0</td>\n",
       "    </tr>\n",
       "    <tr>\n",
       "      <th>2</th>\n",
       "      <td>568160.0</td>\n",
       "      <td>63899.0</td>\n",
       "      <td>567812.0</td>\n",
       "      <td>273783.0</td>\n",
       "    </tr>\n",
       "    <tr>\n",
       "      <th>3</th>\n",
       "      <td>1126772.0</td>\n",
       "      <td>125785.0</td>\n",
       "      <td>1126582.0</td>\n",
       "      <td>542695.0</td>\n",
       "    </tr>\n",
       "    <tr>\n",
       "      <th>4</th>\n",
       "      <td>705855.0</td>\n",
       "      <td>79186.0</td>\n",
       "      <td>705489.0</td>\n",
       "      <td>340077.0</td>\n",
       "    </tr>\n",
       "  </tbody>\n",
       "</table>\n",
       "</div>"
      ],
      "text/plain": [
       "           0         1          2         3\n",
       "0  1340891.0  150106.0  1340400.0  645942.0\n",
       "1  1027856.0  115443.0  1027335.0  495256.0\n",
       "2   568160.0   63899.0   567812.0  273783.0\n",
       "3  1126772.0  125785.0  1126582.0  542695.0\n",
       "4   705855.0   79186.0   705489.0  340077.0"
      ]
     },
     "metadata": {},
     "output_type": "display_data"
    },
    {
     "name": "stdout",
     "output_type": "stream",
     "text": [
      "\n",
      "Обратимая матрица, применённая при шифровании:\n"
     ]
    },
    {
     "data": {
      "text/plain": [
       "array([[35, 18,  5, 21],\n",
       "       [40, 31, 28, 27],\n",
       "       [27,  3, 27, 13],\n",
       "       [16, 17, 47, 14]])"
      ]
     },
     "execution_count": 62,
     "metadata": {},
     "output_type": "execute_result"
    }
   ],
   "source": [
    "# Обучение модели linear1 и вывод обучающих\n",
    "# признаков, умноженных на обратимую матрицу,\n",
    "# вывод обратимой матрицы\n",
    "features_coded, matrix_coding = linear1.fit(features_train, target_train)\n",
    "display(features_coded.head())\n",
    "print()\n",
    "print('Обратимая матрица, применённая при шифровании:')\n",
    "matrix_coding"
   ]
  },
  {
   "cell_type": "code",
   "execution_count": 63,
   "id": "8b00f530",
   "metadata": {},
   "outputs": [
    {
     "data": {
      "text/html": [
       "<div>\n",
       "<style scoped>\n",
       "    .dataframe tbody tr th:only-of-type {\n",
       "        vertical-align: middle;\n",
       "    }\n",
       "\n",
       "    .dataframe tbody tr th {\n",
       "        vertical-align: top;\n",
       "    }\n",
       "\n",
       "    .dataframe thead th {\n",
       "        text-align: right;\n",
       "    }\n",
       "</style>\n",
       "<table border=\"1\" class=\"dataframe\">\n",
       "  <thead>\n",
       "    <tr style=\"text-align: right;\">\n",
       "      <th></th>\n",
       "      <th>0</th>\n",
       "      <th>1</th>\n",
       "      <th>2</th>\n",
       "      <th>3</th>\n",
       "    </tr>\n",
       "  </thead>\n",
       "  <tbody>\n",
       "    <tr>\n",
       "      <th>0</th>\n",
       "      <td>1340891.0</td>\n",
       "      <td>150106.0</td>\n",
       "      <td>1340400.0</td>\n",
       "      <td>645942.0</td>\n",
       "    </tr>\n",
       "    <tr>\n",
       "      <th>1</th>\n",
       "      <td>1027856.0</td>\n",
       "      <td>115443.0</td>\n",
       "      <td>1027335.0</td>\n",
       "      <td>495256.0</td>\n",
       "    </tr>\n",
       "    <tr>\n",
       "      <th>2</th>\n",
       "      <td>568160.0</td>\n",
       "      <td>63899.0</td>\n",
       "      <td>567812.0</td>\n",
       "      <td>273783.0</td>\n",
       "    </tr>\n",
       "    <tr>\n",
       "      <th>3</th>\n",
       "      <td>1126772.0</td>\n",
       "      <td>125785.0</td>\n",
       "      <td>1126582.0</td>\n",
       "      <td>542695.0</td>\n",
       "    </tr>\n",
       "    <tr>\n",
       "      <th>4</th>\n",
       "      <td>705855.0</td>\n",
       "      <td>79186.0</td>\n",
       "      <td>705489.0</td>\n",
       "      <td>340077.0</td>\n",
       "    </tr>\n",
       "  </tbody>\n",
       "</table>\n",
       "</div>"
      ],
      "text/plain": [
       "           0         1          2         3\n",
       "0  1340891.0  150106.0  1340400.0  645942.0\n",
       "1  1027856.0  115443.0  1027335.0  495256.0\n",
       "2   568160.0   63899.0   567812.0  273783.0\n",
       "3  1126772.0  125785.0  1126582.0  542695.0\n",
       "4   705855.0   79186.0   705489.0  340077.0"
      ]
     },
     "execution_count": 63,
     "metadata": {},
     "output_type": "execute_result"
    }
   ],
   "source": [
    "# Вывод обучающих признаков, умноженных\n",
    "# на обратимую матрицу\n",
    "features_coded.head()"
   ]
  },
  {
   "cell_type": "code",
   "execution_count": 64,
   "id": "af2883f0",
   "metadata": {},
   "outputs": [
    {
     "data": {
      "text/plain": [
       "array([[35, 18,  5, 21],\n",
       "       [40, 31, 28, 27],\n",
       "       [27,  3, 27, 13],\n",
       "       [16, 17, 47, 14]])"
      ]
     },
     "execution_count": 64,
     "metadata": {},
     "output_type": "execute_result"
    }
   ],
   "source": [
    "# Вывод обратимой матрицы, применённой\n",
    "# при шифровании обучающих признаков\n",
    "matrix_coding"
   ]
  },
  {
   "cell_type": "code",
   "execution_count": 65,
   "id": "8b18515c",
   "metadata": {},
   "outputs": [
    {
     "data": {
      "text/plain": [
       "array([ 0.51930771,  0.69228465,  0.09411453, ..., -0.2616612 ,\n",
       "       -0.19396062,  0.05042812])"
      ]
     },
     "execution_count": 65,
     "metadata": {},
     "output_type": "execute_result"
    }
   ],
   "source": [
    "# Формирование предсказаний модели linear1\n",
    "predictions1 = linear1.predict(features_train)\n",
    "predictions1"
   ]
  },
  {
   "cell_type": "code",
   "execution_count": 66,
   "id": "b4c187fb",
   "metadata": {},
   "outputs": [
    {
     "data": {
      "text/plain": [
       "0.43020100296526687"
      ]
     },
     "execution_count": 66,
     "metadata": {},
     "output_type": "execute_result"
    }
   ],
   "source": [
    "# Расчёт и вывод коэффициента детерминации\n",
    "r2_1 = r2_score(target_train, predictions1)\n",
    "r2_1"
   ]
  },
  {
   "cell_type": "code",
   "execution_count": 67,
   "id": "d2f8fef3",
   "metadata": {},
   "outputs": [
    {
     "data": {
      "text/plain": [
       "array([ 0.01132903,  0.00923742,  0.00037409, -0.02643821])"
      ]
     },
     "execution_count": 67,
     "metadata": {},
     "output_type": "execute_result"
    }
   ],
   "source": [
    "# Вывод вектора углов наклона\n",
    "linear1.coef_"
   ]
  },
  {
   "cell_type": "code",
   "execution_count": 68,
   "id": "055999eb",
   "metadata": {},
   "outputs": [
    {
     "data": {
      "text/plain": [
       "-0.9517191474261173"
      ]
     },
     "execution_count": 68,
     "metadata": {},
     "output_type": "execute_result"
    }
   ],
   "source": [
    "# Вывод величины сдвига\n",
    "linear1.intercept_"
   ]
  },
  {
   "cell_type": "markdown",
   "id": "9a99b274",
   "metadata": {},
   "source": [
    "<div class=\"alert alert-block alert-warning\"><span style=\"color:green\"><font size=\"3\" face=\"Arial\"><b>Промежуточные выводы 5.1:<br><b/></span>\n",
    "    <br>\n",
    "<span style=\"color:steelblue\"><font size=\"3\" face=\"Courier\"><b>Коэффициент детерминации `R2` равен `0.43` - модель обучена слабо.<br>\n",
    "    Величина сдвига прямой составляет `-0.95`.</b></span></div>"
   ]
  },
  {
   "cell_type": "markdown",
   "id": "7a2ad039",
   "metadata": {},
   "source": [
    "### Проверка закодированной выборкой на стандартной модели из библиотеки Scikit-Learn"
   ]
  },
  {
   "cell_type": "code",
   "execution_count": 69,
   "id": "07801497",
   "metadata": {},
   "outputs": [],
   "source": [
    "# Создание объекта структуры данных\n",
    "linear2 = LinearRegression()"
   ]
  },
  {
   "cell_type": "code",
   "execution_count": 70,
   "id": "dab61fc5",
   "metadata": {},
   "outputs": [
    {
     "data": {
      "text/plain": [
       "LinearRegression()"
      ]
     },
     "execution_count": 70,
     "metadata": {},
     "output_type": "execute_result"
    }
   ],
   "source": [
    "# Обучение модели linear2 закодированной выборкой\n",
    "# признаков features_coded\n",
    "linear2.fit(features_coded, target_train)"
   ]
  },
  {
   "cell_type": "code",
   "execution_count": 71,
   "id": "ce5242b6",
   "metadata": {},
   "outputs": [
    {
     "data": {
      "text/plain": [
       "array([ 0.51932881,  0.69230097,  0.09412742, ..., -0.26164511,\n",
       "       -0.19394186,  0.05044763])"
      ]
     },
     "execution_count": 71,
     "metadata": {},
     "output_type": "execute_result"
    }
   ],
   "source": [
    "# Формирование предсказаний модели linear2\n",
    "predictions2 = linear2.predict(features_coded)\n",
    "predictions2"
   ]
  },
  {
   "cell_type": "code",
   "execution_count": 72,
   "id": "3962ff28",
   "metadata": {},
   "outputs": [
    {
     "data": {
      "text/plain": [
       "0.4302010044851933"
      ]
     },
     "execution_count": 72,
     "metadata": {},
     "output_type": "execute_result"
    }
   ],
   "source": [
    "# Расчёт и вывод коэффициента детерминации\n",
    "r2_2 = r2_score(target_train, predictions2)\n",
    "r2_2"
   ]
  },
  {
   "cell_type": "code",
   "execution_count": 73,
   "id": "229a5afb",
   "metadata": {},
   "outputs": [
    {
     "data": {
      "text/plain": [
       "array([ 0.0113281 ,  0.00923669,  0.00037399, -0.02643589])"
      ]
     },
     "execution_count": 73,
     "metadata": {},
     "output_type": "execute_result"
    }
   ],
   "source": [
    "# Вывод вектора углов наклона\n",
    "linear2.coef_"
   ]
  },
  {
   "cell_type": "code",
   "execution_count": 74,
   "id": "98a0dde8",
   "metadata": {},
   "outputs": [
    {
     "data": {
      "text/plain": [
       "-0.9517099946528347"
      ]
     },
     "execution_count": 74,
     "metadata": {},
     "output_type": "execute_result"
    }
   ],
   "source": [
    "# Вывод величины сдвига\n",
    "linear2.intercept_"
   ]
  },
  {
   "cell_type": "markdown",
   "id": "ef505b13",
   "metadata": {},
   "source": [
    "<div class=\"alert alert-block alert-warning\"><span style=\"color:green\"><font size=\"3\" face=\"Arial\"><b>Промежуточные выводы 5.2:<br><b/></span>\n",
    "    <br>\n",
    "<span style=\"color:steelblue\"><font size=\"3\" face=\"Courier\"><b>Коэффициент детерминации `R2` равен `0.43` - модель обучена слабо.<br>\n",
    "    Величина сдвига прямой составляет `-0.95`.<br>\n",
    "    Угловые коэффициенты идентичны.</b></span></div>"
   ]
  },
  {
   "cell_type": "markdown",
   "id": "ccae9450",
   "metadata": {},
   "source": [
    "### Проверка исходной выборкой на стандартной модели из библиотеки Scikit-Learn"
   ]
  },
  {
   "cell_type": "code",
   "execution_count": 75,
   "id": "0bd0d183",
   "metadata": {},
   "outputs": [],
   "source": [
    "# Создание объекта структуры данных\n",
    "linear3 = LinearRegression()"
   ]
  },
  {
   "cell_type": "code",
   "execution_count": 76,
   "id": "fe521ebe",
   "metadata": {},
   "outputs": [
    {
     "data": {
      "text/plain": [
       "LinearRegression()"
      ]
     },
     "execution_count": 76,
     "metadata": {},
     "output_type": "execute_result"
    }
   ],
   "source": [
    "# Обучение модели linear3 исходной выборкой\n",
    "# признаков features_train\n",
    "linear3.fit(features_train, target_train)"
   ]
  },
  {
   "cell_type": "code",
   "execution_count": 77,
   "id": "8ae0087e",
   "metadata": {},
   "outputs": [
    {
     "data": {
      "text/plain": [
       "array([ 0.51932881,  0.69230097,  0.09412742, ..., -0.26164511,\n",
       "       -0.19394186,  0.05044763])"
      ]
     },
     "execution_count": 77,
     "metadata": {},
     "output_type": "execute_result"
    }
   ],
   "source": [
    "# Формирование предсказаний модели linear3\n",
    "predictions3 = linear3.predict(features_train)\n",
    "predictions3"
   ]
  },
  {
   "cell_type": "code",
   "execution_count": 78,
   "id": "903fa34d",
   "metadata": {},
   "outputs": [
    {
     "data": {
      "text/plain": [
       "0.4302010044852067"
      ]
     },
     "execution_count": 78,
     "metadata": {},
     "output_type": "execute_result"
    }
   ],
   "source": [
    "# Расчёт и вывод коэффициента детерминации\n",
    "r2_3 = r2_score(target_train, predictions3)\n",
    "r2_3"
   ]
  },
  {
   "cell_type": "code",
   "execution_count": 79,
   "id": "3930346e",
   "metadata": {},
   "outputs": [
    {
     "data": {
      "text/plain": [
       "array([ 9.46018141e-03,  3.61640081e-02, -1.38991363e-07, -1.42517371e-02])"
      ]
     },
     "execution_count": 79,
     "metadata": {},
     "output_type": "execute_result"
    }
   ],
   "source": [
    "# Вывод вектора углов наклона\n",
    "linear3.coef_"
   ]
  },
  {
   "cell_type": "code",
   "execution_count": 80,
   "id": "bef03057",
   "metadata": {},
   "outputs": [
    {
     "data": {
      "text/plain": [
       "-0.9517099946522039"
      ]
     },
     "execution_count": 80,
     "metadata": {},
     "output_type": "execute_result"
    }
   ],
   "source": [
    "# Вывод величины сдвига\n",
    "linear3.intercept_"
   ]
  },
  {
   "cell_type": "markdown",
   "id": "23df13bb",
   "metadata": {},
   "source": [
    "<div class=\"alert alert-block alert-warning\"><span style=\"color:green\"><font size=\"3\" face=\"Arial\"><b>Промежуточные выводы 5.3:<br><b/></span>\n",
    "    <br>\n",
    "<span style=\"color:steelblue\"><font size=\"3\" face=\"Courier\"><b>Коэффициент детерминации `R2` равен `0.43` - модель обучена слабо.<br>\n",
    "    Величина сдвига прямой составляет `-0.95`.<br>\n",
    "    Угловые коэффициенты отличаются в меньшую сторону, так как для обучения использовалась выборка без умножения на обратимую матрицу.</b></span></div>"
   ]
  },
  {
   "cell_type": "markdown",
   "id": "d88bd926",
   "metadata": {},
   "source": [
    "## Общий вывод"
   ]
  },
  {
   "cell_type": "markdown",
   "id": "3fea26b0",
   "metadata": {},
   "source": [
    "<div class=\"alert alert-block alert-warning\">\n",
    "    \n",
    "<span style=\"color:steelblue\"><font size=\"3\" face=\"Courier\"><b>В ходе выполнения проекта проанализировал предоставленные данные, на основании которых с шифрованием обучил модели с контролем метрик качества.<br>\n",
    "    <br>\n",
    "    1.1. Во всех колонках датафрейма отсутствуют пропуски `NaN`.<br>\n",
    "    1.2. Названия колонок написаны на кириллице с заглавной буквы.<br>\n",
    "    Для удобства работы выполнил переименование.<br>\n",
    "    1.3. Обнаружил и удалил явные дубликаты в количестве `153` штук для исключения возможного искажения обучающих данных.<br>\n",
    "    1.4. Неявные дубликаты не обнаружены.<br>\n",
    "    <br>\n",
    "    2. Между количеством выплат `number_insurance_payments` и возрастом `age` существует зависимость выше среднего - чем больше возраст, тем больше количество выплат.<br>\n",
    "    Можно сказать, что между остальными признаками корреляция отсутствует.<br>\n",
    "    <br>\n",
    "    3. Сформировал обучающие признаки.<br>\n",
    "    <br>\n",
    "    4. Рассмотрел основные определения и расчёты при обучении модели линейной регрессии, а также оценил влияние умножения матрицы признаков на обратимую матрицу.<br>\n",
    "    Используя особенности операций над транспонированными, обратными и единичными матрицами, удалось доказать, что качество обучения и предсказаний модели линейной регрессии при шифровании данных не изменится.<br>\n",
    "    <br>\n",
    "    5.1. Описал и успешно запрограммировал алгоритм обучения модели линейной регрессии.<br>\n",
    "    5.2. Коэффициент детерминации `R2` равен `0.43` - модель обучена слабо.<br>\n",
    "    Величина сдвига прямой составляет `-0.95`.<br>\n",
    "    5.3. При проверке метрик закодированной выборкой на стандартной модели из библиотеки Scikit-Learn результат получился идентичен.<br>\n",
    "    5.4. При проверке метрик исходной выборкой на стандартной модели из библиотеки Scikit-Learn коэффициент детерминации `R2` и величина сдвига прямой идентичны, а вот угловые коэффициенты отличаются в меньшую сторону, так как для обучения использовалась выборка без умножения на обратимую матрицу.<br>\n",
    "    <br>\n",
    "    6. Исходя из результатов обучения моделей и анализа метрик качества, делаю вывод, что данные пользователей можно шифровать умножением на обратимую матрицу.<br>\n",
    "    Также для шифрования можно использовать векторизованные функции `min_max_scale()` или `логистическую функцию`, которые преобразуют каждый элемент массива в число от `0` до `1`. Либо применить `StandardScaler()` с обучением и дальнейшей трансформацией.</b></span></div>"
   ]
  }
 ],
 "metadata": {
  "ExecuteTimeLog": [
   {
    "duration": 1647,
    "start_time": "2022-07-12T03:33:42.271Z"
   },
   {
    "duration": 3,
    "start_time": "2022-07-12T03:33:43.921Z"
   },
   {
    "duration": 124,
    "start_time": "2022-07-12T03:33:43.925Z"
   },
   {
    "duration": 13,
    "start_time": "2022-07-12T03:33:44.050Z"
   },
   {
    "duration": 8,
    "start_time": "2022-07-12T03:33:44.066Z"
   },
   {
    "duration": 5,
    "start_time": "2022-07-12T03:33:44.076Z"
   },
   {
    "duration": 11,
    "start_time": "2022-07-12T03:33:44.082Z"
   },
   {
    "duration": 13,
    "start_time": "2022-07-12T03:33:44.095Z"
   },
   {
    "duration": 4,
    "start_time": "2022-07-12T03:33:44.110Z"
   },
   {
    "duration": 11,
    "start_time": "2022-07-12T03:33:44.116Z"
   },
   {
    "duration": 10,
    "start_time": "2022-07-12T03:33:44.128Z"
   },
   {
    "duration": 7,
    "start_time": "2022-07-12T03:33:44.140Z"
   },
   {
    "duration": 6,
    "start_time": "2022-07-12T03:33:44.149Z"
   },
   {
    "duration": 38,
    "start_time": "2022-07-12T03:33:44.160Z"
   },
   {
    "duration": 15,
    "start_time": "2022-07-12T03:33:44.200Z"
   },
   {
    "duration": 25,
    "start_time": "2022-07-12T03:33:44.216Z"
   },
   {
    "duration": 11,
    "start_time": "2022-07-12T03:33:44.243Z"
   },
   {
    "duration": 419,
    "start_time": "2022-07-12T03:33:44.256Z"
   },
   {
    "duration": 6,
    "start_time": "2022-07-12T03:33:44.677Z"
   },
   {
    "duration": 4,
    "start_time": "2022-07-12T03:33:44.698Z"
   },
   {
    "duration": 8,
    "start_time": "2022-07-12T03:33:44.704Z"
   },
   {
    "duration": 12,
    "start_time": "2022-07-12T03:33:44.713Z"
   },
   {
    "duration": 73,
    "start_time": "2022-07-12T03:33:44.727Z"
   },
   {
    "duration": 97,
    "start_time": "2022-07-12T03:33:44.802Z"
   },
   {
    "duration": 101,
    "start_time": "2022-07-12T03:33:44.901Z"
   },
   {
    "duration": 16,
    "start_time": "2022-07-12T03:33:45.004Z"
   },
   {
    "duration": 6,
    "start_time": "2022-07-12T03:33:45.023Z"
   },
   {
    "duration": 5,
    "start_time": "2022-07-12T03:33:45.030Z"
   },
   {
    "duration": 11,
    "start_time": "2022-07-12T03:33:45.037Z"
   },
   {
    "duration": 51,
    "start_time": "2022-07-12T03:33:45.049Z"
   },
   {
    "duration": 102,
    "start_time": "2022-07-12T03:33:45.106Z"
   },
   {
    "duration": 7,
    "start_time": "2022-07-12T03:33:45.209Z"
   },
   {
    "duration": 7,
    "start_time": "2022-07-12T03:33:45.217Z"
   },
   {
    "duration": 8,
    "start_time": "2022-07-12T03:33:45.226Z"
   },
   {
    "duration": 14,
    "start_time": "2022-07-12T03:33:45.236Z"
   },
   {
    "duration": 51,
    "start_time": "2022-07-12T03:33:45.251Z"
   },
   {
    "duration": 98,
    "start_time": "2022-07-12T03:33:45.303Z"
   },
   {
    "duration": 5,
    "start_time": "2022-07-12T03:33:45.404Z"
   },
   {
    "duration": 5,
    "start_time": "2022-07-12T03:33:45.411Z"
   },
   {
    "duration": 144,
    "start_time": "2022-07-12T04:53:29.546Z"
   },
   {
    "duration": 53,
    "start_time": "2022-07-12T05:55:41.428Z"
   },
   {
    "duration": 1656,
    "start_time": "2022-07-12T05:55:44.120Z"
   },
   {
    "duration": 3,
    "start_time": "2022-07-12T05:55:45.778Z"
   },
   {
    "duration": 233,
    "start_time": "2022-07-12T05:55:47.012Z"
   },
   {
    "duration": 37,
    "start_time": "2022-07-12T05:56:05.278Z"
   },
   {
    "duration": 16,
    "start_time": "2022-07-12T07:58:52.094Z"
   },
   {
    "duration": 3,
    "start_time": "2022-07-12T07:58:54.430Z"
   },
   {
    "duration": 18,
    "start_time": "2022-07-12T07:58:55.094Z"
   },
   {
    "duration": 4,
    "start_time": "2022-07-12T07:59:11.242Z"
   },
   {
    "duration": 11,
    "start_time": "2022-07-12T07:59:11.249Z"
   },
   {
    "duration": 51,
    "start_time": "2022-07-12T07:59:11.263Z"
   },
   {
    "duration": 11,
    "start_time": "2022-07-12T07:59:11.316Z"
   },
   {
    "duration": 10,
    "start_time": "2022-07-12T07:59:11.330Z"
   },
   {
    "duration": 5,
    "start_time": "2022-07-12T07:59:11.342Z"
   },
   {
    "duration": 10,
    "start_time": "2022-07-12T07:59:11.349Z"
   },
   {
    "duration": 13,
    "start_time": "2022-07-12T07:59:11.361Z"
   },
   {
    "duration": 35,
    "start_time": "2022-07-12T07:59:11.376Z"
   },
   {
    "duration": 12,
    "start_time": "2022-07-12T07:59:11.413Z"
   },
   {
    "duration": 9,
    "start_time": "2022-07-12T07:59:11.428Z"
   },
   {
    "duration": 6,
    "start_time": "2022-07-12T07:59:11.439Z"
   },
   {
    "duration": 9,
    "start_time": "2022-07-12T07:59:11.446Z"
   },
   {
    "duration": 6,
    "start_time": "2022-07-12T07:59:11.457Z"
   },
   {
    "duration": 11,
    "start_time": "2022-07-12T07:59:11.465Z"
   },
   {
    "duration": 50,
    "start_time": "2022-07-12T07:59:11.478Z"
   },
   {
    "duration": 11,
    "start_time": "2022-07-12T07:59:11.529Z"
   },
   {
    "duration": 520,
    "start_time": "2022-07-12T07:59:11.541Z"
   },
   {
    "duration": 6,
    "start_time": "2022-07-12T07:59:12.062Z"
   },
   {
    "duration": 9,
    "start_time": "2022-07-12T07:59:12.069Z"
   },
   {
    "duration": 18,
    "start_time": "2022-07-12T07:59:12.080Z"
   },
   {
    "duration": 13,
    "start_time": "2022-07-12T07:59:12.106Z"
   },
   {
    "duration": 19,
    "start_time": "2022-07-12T07:59:12.121Z"
   },
   {
    "duration": 95,
    "start_time": "2022-07-12T07:59:12.209Z"
   },
   {
    "duration": 108,
    "start_time": "2022-07-12T07:59:12.307Z"
   },
   {
    "duration": 6,
    "start_time": "2022-07-12T07:59:12.418Z"
   },
   {
    "duration": 7,
    "start_time": "2022-07-12T07:59:12.426Z"
   },
   {
    "duration": 5,
    "start_time": "2022-07-12T07:59:12.434Z"
   },
   {
    "duration": 11,
    "start_time": "2022-07-12T07:59:12.442Z"
   },
   {
    "duration": 168,
    "start_time": "2022-07-12T07:59:12.455Z"
   },
   {
    "duration": 80,
    "start_time": "2022-07-12T07:59:12.625Z"
   },
   {
    "duration": 95,
    "start_time": "2022-07-12T07:59:12.707Z"
   },
   {
    "duration": 16,
    "start_time": "2022-07-12T07:59:12.805Z"
   },
   {
    "duration": 6,
    "start_time": "2022-07-12T07:59:12.822Z"
   },
   {
    "duration": 13,
    "start_time": "2022-07-12T07:59:12.829Z"
   },
   {
    "duration": 10,
    "start_time": "2022-07-12T07:59:12.844Z"
   },
   {
    "duration": 163,
    "start_time": "2022-07-12T07:59:12.855Z"
   },
   {
    "duration": 7,
    "start_time": "2022-07-12T07:59:13.020Z"
   },
   {
    "duration": 7,
    "start_time": "2022-07-12T07:59:13.029Z"
   },
   {
    "duration": 16,
    "start_time": "2022-07-12T08:00:15.790Z"
   },
   {
    "duration": 5,
    "start_time": "2022-07-12T08:03:53.754Z"
   },
   {
    "duration": 7,
    "start_time": "2022-07-12T08:03:53.766Z"
   },
   {
    "duration": 64,
    "start_time": "2022-07-12T08:03:53.775Z"
   },
   {
    "duration": 12,
    "start_time": "2022-07-12T08:03:53.841Z"
   },
   {
    "duration": 10,
    "start_time": "2022-07-12T08:03:53.855Z"
   },
   {
    "duration": 7,
    "start_time": "2022-07-12T08:03:53.868Z"
   },
   {
    "duration": 12,
    "start_time": "2022-07-12T08:03:53.877Z"
   },
   {
    "duration": 18,
    "start_time": "2022-07-12T08:03:53.904Z"
   },
   {
    "duration": 24,
    "start_time": "2022-07-12T08:03:53.924Z"
   },
   {
    "duration": 14,
    "start_time": "2022-07-12T08:03:53.950Z"
   },
   {
    "duration": 8,
    "start_time": "2022-07-12T08:03:53.966Z"
   },
   {
    "duration": 8,
    "start_time": "2022-07-12T08:03:53.975Z"
   },
   {
    "duration": 21,
    "start_time": "2022-07-12T08:03:53.985Z"
   },
   {
    "duration": 40,
    "start_time": "2022-07-12T08:03:54.008Z"
   },
   {
    "duration": 12,
    "start_time": "2022-07-12T08:03:54.053Z"
   },
   {
    "duration": 43,
    "start_time": "2022-07-12T08:03:54.067Z"
   },
   {
    "duration": 43,
    "start_time": "2022-07-12T08:03:54.113Z"
   },
   {
    "duration": 435,
    "start_time": "2022-07-12T08:03:54.158Z"
   },
   {
    "duration": 18,
    "start_time": "2022-07-12T08:03:54.595Z"
   },
   {
    "duration": 23,
    "start_time": "2022-07-12T08:03:54.620Z"
   },
   {
    "duration": 10,
    "start_time": "2022-07-12T08:03:54.645Z"
   },
   {
    "duration": 20,
    "start_time": "2022-07-12T08:03:54.657Z"
   },
   {
    "duration": 42,
    "start_time": "2022-07-12T08:03:54.679Z"
   },
   {
    "duration": 186,
    "start_time": "2022-07-12T08:03:54.726Z"
   },
   {
    "duration": 30,
    "start_time": "2022-07-12T08:03:54.914Z"
   },
   {
    "duration": 35,
    "start_time": "2022-07-12T08:03:55.002Z"
   },
   {
    "duration": 5,
    "start_time": "2022-07-12T08:03:55.039Z"
   },
   {
    "duration": 4,
    "start_time": "2022-07-12T08:03:55.046Z"
   },
   {
    "duration": 19,
    "start_time": "2022-07-12T08:03:55.052Z"
   },
   {
    "duration": 38,
    "start_time": "2022-07-12T08:03:55.073Z"
   },
   {
    "duration": 123,
    "start_time": "2022-07-12T08:03:55.113Z"
   },
   {
    "duration": 8,
    "start_time": "2022-07-12T08:03:55.238Z"
   },
   {
    "duration": 7,
    "start_time": "2022-07-12T08:03:55.248Z"
   },
   {
    "duration": 5,
    "start_time": "2022-07-12T08:03:55.257Z"
   },
   {
    "duration": 51,
    "start_time": "2022-07-12T08:03:55.264Z"
   },
   {
    "duration": 89,
    "start_time": "2022-07-12T08:03:55.316Z"
   },
   {
    "duration": 117,
    "start_time": "2022-07-12T08:03:55.407Z"
   },
   {
    "duration": 14,
    "start_time": "2022-07-12T08:03:55.526Z"
   },
   {
    "duration": 7,
    "start_time": "2022-07-12T08:03:55.542Z"
   }
  ],
  "kernelspec": {
   "display_name": "Python 3 (ipykernel)",
   "language": "python",
   "name": "python3"
  },
  "language_info": {
   "codemirror_mode": {
    "name": "ipython",
    "version": 3
   },
   "file_extension": ".py",
   "mimetype": "text/x-python",
   "name": "python",
   "nbconvert_exporter": "python",
   "pygments_lexer": "ipython3",
   "version": "3.10.4"
  },
  "latex_envs": {
   "LaTeX_envs_menu_present": true,
   "autoclose": false,
   "autocomplete": true,
   "bibliofile": "biblio.bib",
   "cite_by": "apalike",
   "current_citInitial": 1,
   "eqLabelWithNumbers": true,
   "eqNumInitial": 1,
   "hotkeys": {
    "equation": "Ctrl-E",
    "itemize": "Ctrl-I"
   },
   "labels_anchors": false,
   "latex_user_defs": false,
   "report_style_numbering": false,
   "user_envs_cfg": false
  },
  "nbTranslate": {
   "displayLangs": [
    "*"
   ],
   "hotkey": "alt-t",
   "langInMainMenu": true,
   "sourceLang": "en",
   "targetLang": "fr",
   "useGoogleTranslate": true
  },
  "toc": {
   "base_numbering": 1,
   "nav_menu": {},
   "number_sections": true,
   "sideBar": true,
   "skip_h1_title": true,
   "title_cell": "Содержание",
   "title_sidebar": "Contents",
   "toc_cell": true,
   "toc_position": {
    "height": "calc(100% - 180px)",
    "left": "10px",
    "top": "150px",
    "width": "284.641px"
   },
   "toc_section_display": true,
   "toc_window_display": true
  }
 },
 "nbformat": 4,
 "nbformat_minor": 5
}
